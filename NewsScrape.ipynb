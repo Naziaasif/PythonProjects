{
  "nbformat": 4,
  "nbformat_minor": 0,
  "metadata": {
    "colab": {
      "provenance": [],
      "authorship_tag": "ABX9TyONwmjLsNe4E5+uoLc5bTqO",
      "include_colab_link": true
    },
    "kernelspec": {
      "name": "python3",
      "display_name": "Python 3"
    },
    "language_info": {
      "name": "python"
    }
  },
  "cells": [
    {
      "cell_type": "markdown",
      "metadata": {
        "id": "view-in-github",
        "colab_type": "text"
      },
      "source": [
        "<a href=\"https://colab.research.google.com/github/Naziaasif/PythonProjects/blob/main/NewsScrape.ipynb\" target=\"_parent\"><img src=\"https://colab.research.google.com/assets/colab-badge.svg\" alt=\"Open In Colab\"/></a>"
      ]
    },
    {
      "cell_type": "code",
      "source": [
        "# IMPORT ALL THE REQUIRED LIBRARIES\n",
        "from bs4 import BeautifulSoup as BS\n",
        "import requests as req\n",
        "\n",
        "url = \"https://www.businesstoday.in/latest/economy\"\n",
        "\n",
        "webpage = req.get(url)\n",
        "trav = BS(webpage.content, \"html.parser\")\n",
        "M = 1\n",
        "for link in trav.find_all('a'):\n",
        "\n",
        "    # PASTE THE CLASS TYPE THAT WE GET\n",
        "    # FROM THE ABOVE CODE IN THIS AND\n",
        "    # SET THE LIMIT GREATER THAN 35\n",
        "    if(str(type(link.string)) == \"<class 'bs4.element.NavigableString'>\"\n",
        "       and len(link.string) > 35):\n",
        "\n",
        "        print(str(M)+\".\", link.string)\n",
        "        M += 1"
      ],
      "metadata": {
        "colab": {
          "base_uri": "https://localhost:8080/"
        },
        "id": "zeNd6QKWwt03",
        "outputId": "46f418a5-2304-463e-fbed-481907e4e1fa"
      },
      "execution_count": 3,
      "outputs": [
        {
          "output_type": "stream",
          "name": "stdout",
          "text": [
            "1.                                 Home\n",
            "                                \n",
            "2.                                 Magazine\n",
            "                                \n",
            "3.                                 BT TV\n",
            "                                \n",
            "4.                                 Market Today\n",
            "                                \n",
            "5.                                 Tech Today\n",
            "                                \n",
            "6.                                 Money Today\n",
            "                                \n",
            "7.                                 UPSTART\n",
            "                                \n",
            "8.                                 Industry\n",
            "                                \n",
            "9.                                 BTShorts\n",
            "                                \n",
            "10.                                 Visual Stories\n",
            "                                \n",
            "11.                                 BT Bazaar\n",
            "                                \n",
            "12.                                 BT Reels\n",
            "                                \n",
            "13.                                 Immersives\n",
            "                                \n",
            "14.                                 Animal Spirits\n",
            "                                \n",
            "15.                                 Economy\n",
            "                                \n",
            "16.                                 Corporate\n",
            "                                \n",
            "17.                                 Petrol-Diesel\n",
            "                                \n",
            "18.                                 Weather\n",
            "                                \n",
            "19.                                 IPO Corner\n",
            "                                \n",
            "20.                              BT-TR GCC Listing \n",
            "21. 72% of Rs 2,000 notes have been deposited or exchanged in banks: RBI Governor Shaktikanta Das \n",
            "22. Inflation below 5% but certain challenges still remain: RBI Governor Shaktikanta Das\n",
            "23. ‘Standing on UPA's shoulders': P Chidambaram challenges FM Sitharaman's claims on Modi govt's achievements \n",
            "24. Centre to kick off acquisition of 31 armed Predator drones from US early next month: Report  \n",
            "25. Inflation slowing down personal consumption, affecting pvt investment: RBI paper\n",
            "26. Skills-first approach will be the big thing for future jobs: Ashutosh Gupta of LinkedIn India\n",
            "27. New power tariffs: Govt wants you to save money during the day, but pay more at night\n",
            "28. Tesla in India? Karnataka minister wants Elon Musk to set up first factory in the state\n",
            "29. WATCH: Mukesh and Nita Ambani, Nikhil Kamath, Anand Mahindra arrive for PM Modi’s State Dinner\n",
            "30. Job of taming inflation only half done: RBI Guv Das in June MPC meet\n",
            "31. Fitch raises India's GDP forecast to 6.3% from 6% for current fiscal year\n",
            "32. Bidens to host PM Modi for state dinner: Millet cakes, stuffed mushrooms, grilled corn salad on the menu\n",
            "33. PM Modi’s US visit: Biden administration may ease visa for skilled Indian workers\n",
            "34. Fed's Powell, in testimony, says inflation fight has 'long way to go'\n",
            "35. PM Modi meets experts from healthcare sector, think tank space, and academia\n",
            "36. Ukraine issue to come up in talks between PM Modi, US President Joe Biden, says White House official\n",
            "37. PM Modi meets Elon Musk, Ray Dalio, Neil deGrasse Tyson in the US\n",
            "38. SBI's Swaminathan Janakiraman appointed as RBI deputy governor for 3 years\n",
            "39. ‘We are not neutral, we are on the side of peace’: PM Modi on Russia-Ukraine conflict\n",
            "40. PM Modi to meet Elon Musk, Neil deGrasse Tyson, Ray Dalio, Grammy-winning singer Falguni Shah on his US visit\n",
            "41. Balasore train crash: CBI questions junior engineer, seals his house \n"
          ]
        }
      ]
    },
    {
      "cell_type": "code",
      "source": [
        "# import module\n",
        "from gnewsclient import gnewsclient\n",
        "\n",
        "# declare a NewsClient object\n",
        "client = gnewsclient.NewsClient(language='hindi', location='india', topic='Business', max_results=5)\n",
        "\n",
        "# get news feed\n",
        "client.get_news()"
      ],
      "metadata": {
        "colab": {
          "base_uri": "https://localhost:8080/"
        },
        "id": "CCXJpiAaVZ7y",
        "outputId": "29cebc32-453a-4668-8acd-1beccea09b3f"
      },
      "execution_count": 4,
      "outputs": [
        {
          "output_type": "stream",
          "name": "stdout",
          "text": [
            "Looking in indexes: https://pypi.org/simple, https://us-python.pkg.dev/colab-wheels/public/simple/\n",
            "Collecting gnewsclient\n",
            "  Downloading gnewsclient-1.12-py3-none-any.whl (7.9 kB)\n",
            "Requirement already satisfied: requests in /usr/local/lib/python3.10/dist-packages (from gnewsclient) (2.27.1)\n",
            "Collecting fuzzywuzzy (from gnewsclient)\n",
            "  Downloading fuzzywuzzy-0.18.0-py2.py3-none-any.whl (18 kB)\n",
            "Collecting feedparser (from gnewsclient)\n",
            "  Downloading feedparser-6.0.10-py3-none-any.whl (81 kB)\n",
            "\u001b[2K     \u001b[90m━━━━━━━━━━━━━━━━━━━━━━━━━━━━━━━━━━━━━━━━\u001b[0m \u001b[32m81.1/81.1 kB\u001b[0m \u001b[31m4.2 MB/s\u001b[0m eta \u001b[36m0:00:00\u001b[0m\n",
            "\u001b[?25hCollecting sgmllib3k (from feedparser->gnewsclient)\n",
            "  Downloading sgmllib3k-1.0.0.tar.gz (5.8 kB)\n",
            "  Preparing metadata (setup.py) ... \u001b[?25l\u001b[?25hdone\n",
            "Requirement already satisfied: urllib3<1.27,>=1.21.1 in /usr/local/lib/python3.10/dist-packages (from requests->gnewsclient) (1.26.16)\n",
            "Requirement already satisfied: certifi>=2017.4.17 in /usr/local/lib/python3.10/dist-packages (from requests->gnewsclient) (2023.5.7)\n",
            "Requirement already satisfied: charset-normalizer~=2.0.0 in /usr/local/lib/python3.10/dist-packages (from requests->gnewsclient) (2.0.12)\n",
            "Requirement already satisfied: idna<4,>=2.5 in /usr/local/lib/python3.10/dist-packages (from requests->gnewsclient) (3.4)\n",
            "Building wheels for collected packages: sgmllib3k\n",
            "  Building wheel for sgmllib3k (setup.py) ... \u001b[?25l\u001b[?25hdone\n",
            "  Created wheel for sgmllib3k: filename=sgmllib3k-1.0.0-py3-none-any.whl size=6046 sha256=93808f9cf8b439ea81ea323e414a8aa2512ae197f86c22db4fab572e1cf75e39\n",
            "  Stored in directory: /root/.cache/pip/wheels/f0/69/93/a47e9d621be168e9e33c7ce60524393c0b92ae83cf6c6e89c5\n",
            "Successfully built sgmllib3k\n",
            "Installing collected packages: sgmllib3k, fuzzywuzzy, feedparser, gnewsclient\n",
            "Successfully installed feedparser-6.0.10 fuzzywuzzy-0.18.0 gnewsclient-1.12 sgmllib3k-1.0.0\n"
          ]
        }
      ]
    },
    {
      "cell_type": "code",
      "source": [],
      "metadata": {
        "id": "O2qL-XxaVTyw"
      },
      "execution_count": null,
      "outputs": []
    }
  ]
}