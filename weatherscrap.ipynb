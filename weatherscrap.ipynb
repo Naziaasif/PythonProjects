{
  "nbformat": 4,
  "nbformat_minor": 0,
  "metadata": {
    "colab": {
      "provenance": [],
      "authorship_tag": "ABX9TyMJdwjS7Gqd6fa5/cudFies",
      "include_colab_link": true
    },
    "kernelspec": {
      "name": "python3",
      "display_name": "Python 3"
    },
    "language_info": {
      "name": "python"
    }
  },
  "cells": [
    {
      "cell_type": "markdown",
      "metadata": {
        "id": "view-in-github",
        "colab_type": "text"
      },
      "source": [
        "<a href=\"https://colab.research.google.com/github/Naziaasif/PythonProjects/blob/main/weatherscrap.ipynb\" target=\"_parent\"><img src=\"https://colab.research.google.com/assets/colab-badge.svg\" alt=\"Open In Colab\"/></a>"
      ]
    },
    {
      "cell_type": "code",
      "execution_count": 3,
      "metadata": {
        "id": "B4dfss9FKf0f"
      },
      "outputs": [],
      "source": [
        "import bs4\n",
        "from bs4 import BeautifulSoup\n",
        "import requests\n",
        "import pandas as pd\n",
        "from datetime import datetime"
      ]
    },
    {
      "cell_type": "code",
      "source": [
        "url='https://www.estesparkweather.net/archive_reports.phpdate=202005'\n",
        "page = requests.get(url)\n",
        "print(page)\n",
        "soup =  BeautifulSoup(page.content,'html.parser')\n",
        "print(soup)"
      ],
      "metadata": {
        "colab": {
          "base_uri": "https://localhost:8080/"
        },
        "id": "GdOxSM9oK-GO",
        "outputId": "33ff6c32-37ed-4d5a-89ed-a335de35bc9f"
      },
      "execution_count": 5,
      "outputs": [
        {
          "output_type": "stream",
          "name": "stdout",
          "text": [
            "<Response [404]>\n",
            "<!DOCTYPE HTML PUBLIC \"-//IETF//DTD HTML 2.0//EN\">\n",
            "\n",
            "<html><head>\n",
            "<title>404 Not Found</title>\n",
            "</head><body>\n",
            "<h1>Not Found (404)</h1>\n",
            "\n",
            "The requested URL\n",
            "/archive_reports.phpdate=202005\n",
            "was not found on this server.\n",
            "<hr/>\n",
            "\n",
            "www.estesparkweather.net\n",
            "\n",
            "</body></html>\n"
          ]
        }
      ]
    },
    {
      "cell_type": "code",
      "source": [
        "table = soup.find_all('table')\n",
        "raw_data = [row.text.splitlines() for row in table]\n",
        "raw_data = raw_data[:-9]\n",
        "for i in range(len(raw_data)):\n",
        " raw_data[i] = raw_data[i][2:len(raw_data[i]):3]\n",
        "print(raw_data)"
      ],
      "metadata": {
        "colab": {
          "base_uri": "https://localhost:8080/"
        },
        "id": "1V1VlH1mLOLV",
        "outputId": "3cc5a983-0e7b-48bc-d681-9f5ba63a41d6"
      },
      "execution_count": 7,
      "outputs": [
        {
          "output_type": "stream",
          "name": "stdout",
          "text": [
            "[]\n"
          ]
        }
      ]
    },
    {
      "cell_type": "code",
      "source": [
        "Dates_r = pd.date_range(start = '1/1/2009',end = '08/05/2020',freq = 'M')\n",
        "dates = [str(i)[:4] + str(i)[5:7] for i in Dates_r]\n",
        "dates[0:5]\n",
        "for k in range(len(dates)):\n",
        "    url = \"http://www.estesparkweather.net/archive_reports.php?date=\"\n",
        "    url += dates[k]"
      ],
      "metadata": {
        "id": "t_0o--FiLlS9"
      },
      "execution_count": 8,
      "outputs": []
    }
  ]
}